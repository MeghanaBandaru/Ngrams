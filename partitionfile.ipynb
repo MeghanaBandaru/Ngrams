{
 "cells": [
  {
   "cell_type": "code",
   "execution_count": 3,
   "metadata": {},
   "outputs": [],
   "source": [
    "def partitionFile(file_path):\n",
    "    held_set=open('held_set.txt','w')\n",
    "    test_set=open('test_set.txt','w') \n",
    "    #247322\n",
    "    with open(file_path,'r') as file:\n",
    "        for i,line in enumerate(file):\n",
    "                if i%2==0:\n",
    "                    held_set.write(line)\n",
    "                else:\n",
    "                    test_set.write(line)\n",
    "    held_set.close()\n",
    "    test_set.close()\n",
    "\n",
    "if __name__==\"__main__\":\n",
    "    partitionFile('testing.txt')"
   ]
  }
 ],
 "metadata": {
  "kernelspec": {
   "display_name": "Python 3",
   "language": "python",
   "name": "python3"
  },
  "language_info": {
   "codemirror_mode": {
    "name": "ipython",
    "version": 3
   },
   "file_extension": ".py",
   "mimetype": "text/x-python",
   "name": "python",
   "nbconvert_exporter": "python",
   "pygments_lexer": "ipython3",
   "version": "3.6.1"
  }
 },
 "nbformat": 4,
 "nbformat_minor": 2
}
