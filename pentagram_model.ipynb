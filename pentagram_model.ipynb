{
 "cells": [
  {
   "cell_type": "code",
   "execution_count": 1,
   "metadata": {
    "collapsed": true
   },
   "outputs": [],
   "source": [
    "from nltk.util import ngrams\n",
    "import nltk\n",
    "from collections import Counter\n",
    "from collections import defaultdict"
   ]
  },
  {
   "cell_type": "code",
   "execution_count": 2,
   "metadata": {
    "collapsed": true
   },
   "outputs": [],
   "source": [
    "preprocess=lambda line: line.replace('.',' ').replace(',',' ').replace(':',' ').replace(';',' ').replace('!',' ').replace('?',' ').replace('(',' ').replace(')',' ').replace(\"-\",\" \").replace(\" '\",' ').replace(\"' \",' ').replace('\"',' ').replace(\"_\",\" \").replace('[',' ').replace(']',\" \").replace('{',' ').replace('}',\" \").replace('*',' ')   "
   ]
  },
  {
   "cell_type": "code",
   "execution_count": 3,
   "metadata": {
    "collapsed": true
   },
   "outputs": [],
   "source": [
    "def getTokens(file):\n",
    "    tokens=[]\n",
    "    #with open('/home/meghana/nltk_data/corpora/gutenberg/training_corpus.txt') as f:\n",
    "    with open(file) as f:\n",
    "        for line in f:\n",
    "            if not line.isspace():\n",
    "                line=line.lower()\n",
    "                line=preprocess(line)\n",
    "            items=line.split()\n",
    "            tokens+=items\n",
    "    return tokens"
   ]
  },
  {
   "cell_type": "code",
   "execution_count": 4,
   "metadata": {
    "collapsed": true
   },
   "outputs": [],
   "source": [
    "def find_perplexity(prob_table,test_quads,n):\n",
    "    pp=1.0\n",
    "    for quad in test_quads:\n",
    "        try:\n",
    "            pp=pp*((1/float(prob_table[quad[0:3]][quad[3]]))**(1/n))\n",
    "        except:\n",
    "            pass\n",
    "    print(pp)"
   ]
  },
  {
   "cell_type": "code",
   "execution_count": 5,
   "metadata": {
    "collapsed": false
   },
   "outputs": [
    {
     "name": "stdout",
     "output_type": "stream",
     "text": [
      "        Train   Test   Held-out\n",
      "Total  1889452 104950 105479\n",
      "Unique   41617 11188   11253\n"
     ]
    }
   ],
   "source": [
    "train_tokens=getTokens('training.txt')\n",
    "test_tokens=getTokens('test_set.txt')\n",
    "held_tokens=getTokens('held_set.txt')\n",
    "print(\"        Train   Test   Held-out\")\n",
    "print(\"Total \",len(train_tokens),len(test_tokens),len(held_tokens))\n",
    "train_tokenSet=set(train_tokens)\n",
    "test_tokenSet=set(test_tokens)\n",
    "held_tokenSet=set(held_tokens)\n",
    "print(\"Unique  \",len(train_tokenSet),len(test_tokenSet),\" \",len(held_tokenSet))\n",
    "# 1891868 103419 104594\n",
    "# 35487 12831 11647"
   ]
  },
  {
   "cell_type": "code",
   "execution_count": 6,
   "metadata": {
    "collapsed": true
   },
   "outputs": [],
   "source": [
    "import operator\n",
    "unigrams=list(ngrams(train_tokens,1))\n",
    "bigrams=list(ngrams(train_tokens,2))\n",
    "trigrams=list(ngrams(train_tokens,3))\n",
    "quadgrams=list(ngrams(train_tokens,4))\n",
    "pentagrams=list(ngrams(train_tokens,5))\n",
    "V=len(set(pentagrams))\n",
    "\n",
    "held_pentagrams=list(ngrams(held_tokens,5))\n",
    "held_pentagramSet=set(held_pentagrams)\n",
    "\n",
    "test_pentagrams=list(ngrams(test_tokens,5))\n",
    "test_pentagramSet=set(test_pentagrams)\n",
    "\n",
    "unigram_table=Counter(train_tokens)\n",
    "bigram_table=Counter(bigrams)#stores the frequencies of each bigram similarly trigrams and quadgrams\n",
    "trigram_table=Counter(trigrams)\n",
    "quadgram_table=Counter(quadgrams)\n",
    "pentagram_table=Counter(pentagrams)"
   ]
  },
  {
   "cell_type": "code",
   "execution_count": 8,
   "metadata": {
    "collapsed": false
   },
   "outputs": [],
   "source": [
    "for key in pentagram_table:\n",
    "    quad=key[0:4]\n",
    "    pentagram_table[key]=((pentagram_table[key])/(quadgram_table[quad]))\n",
    "                         \n",
    "penta_prob_table=defaultdict(dict)\n",
    "\n",
    "for penta in pentagram_table:\n",
    "    p=pentagram_table[penta]\n",
    "    quad=penta[0:4]\n",
    "    token=penta[4]\n",
    "    penta_prob_table[quad][token]=p"
   ]
  },
  {
   "cell_type": "code",
   "execution_count": 13,
   "metadata": {
    "collapsed": true
   },
   "outputs": [],
   "source": [
    "def find_score(penta_prob_table,test_pentagramSet):\n",
    "    score=0\n",
    "    print(len(test_pentagramSet))\n",
    "    for penta in test_pentagramSet:\n",
    "        \n",
    "        quad=penta[0:4]\n",
    "        token=penta[4]\n",
    "        result=list(penta_prob_table[quad])\n",
    "        #print(result)\n",
    "        try:\n",
    "            if token==result[0]:\n",
    "                score+=1\n",
    "        except:\n",
    "            pass\n",
    "    print(score)"
   ]
  },
  {
   "cell_type": "code",
   "execution_count": 14,
   "metadata": {
    "collapsed": false
   },
   "outputs": [
    {
     "name": "stdout",
     "output_type": "stream",
     "text": [
      "104336\n",
      "3585\n"
     ]
    }
   ],
   "source": [
    "find_score(penta_prob_table,test_pentagramSet)"
   ]
  },
  {
   "cell_type": "code",
   "execution_count": 17,
   "metadata": {
    "collapsed": false
   },
   "outputs": [],
   "source": [
    "freq_table=[]\n",
    "pentagram_table=Counter(pentagrams)#stores the frequencies of each quadgram\n",
    "quadgram_table=Counter(pentagrams)\n",
    "#stores the frequencies of (counts of quadgrams)eg.N1=150 => no of quadgrams with count 1 are 150\n",
    "for penta in pentagram_table:\n",
    "    freq_table.append(pentagram_table[penta])\n",
    "    \n",
    "freq_table=Counter(freq_table)\n",
    "freq_table=dict(sorted(freq_table.items(), key=operator.itemgetter(0), reverse=True))\n",
    "#print(freq_table)\n",
    "\n",
    "#history_dict contains no. of different trigrams a token follows\n",
    "#future_dict contains no. different tokens a trigram follows\n",
    "history_dict=defaultdict(int)\n",
    "future_dict=defaultdict(int)\n",
    "for penta in pentagram_table:\n",
    "    token=penta[4]\n",
    "    history_dict[token]+=1\n",
    "    quad=penta[0:4]\n",
    "    future_dict[quad]+=1\n",
    "#this is to find Pcontinuation\n",
    "x=len(set(pentagrams))\n",
    "for penta in pentagram_table:\n",
    "    key=penta[4]\n",
    "    history_dict[key]=history_dict[key]/x\n",
    "#print(len(history_dict))\n",
    "\n",
    "    \n",
    "\n",
    "N=len(pentagrams)\n",
    "N1=freq_table[1]\n",
    "N2=freq_table[2]\n",
    "N3=freq_table[3]\n",
    "N4=freq_table[4]\n",
    "Y=N1/(N1+2*N2)\n",
    "D=[0]*4\n",
    "D[0]=Y\n",
    "D[1]=1-(2*Y*(N2/N1))\n",
    "D[2]=2-(3*Y*(N3/N2))\n",
    "D[3]=3-(4*Y*(N4/N3))\n",
    "\n",
    "for penta in pentagram_table:\n",
    "    c=pentagram_table[penta]\n",
    "    W=penta[4]\n",
    "    Wh=penta[0:4]\n",
    "    Pcont=history_dict[W]\n",
    "    if c<=3:\n",
    "        try:\n",
    "            L=(D[c]/quadgram_table[Wh])*future_dict[Wh]\n",
    "            Pkn=((max(c-D[c],0)/quadgram_table[Wh])+(L*Pcont))\n",
    "        except:\n",
    "            Pkn=0\n",
    "    else:\n",
    "        try:\n",
    "            L=(D[3]/quadgram_table[Wh])*future_dict[Wh]\n",
    "            Pkn=((max(c-D[3],0)/quadgram_table[Wh])+(L*Pcont))\n",
    "        except:\n",
    "            Pkn=0\n",
    "    if Pkn>0.0:\n",
    "        pentagram_table[penta]=Pkn\n",
    "           \n",
    "penta_prob_table=defaultdict(dict)\n",
    "for penta in pentagram_table:\n",
    "    p=pentagram_table[penta]\n",
    "    quad=penta[0:4]\n",
    "    token=penta[4]\n",
    "    if p>0.0:\n",
    "        penta_prob_table[quad][token]=p   \n",
    "\n",
    "\n",
    "for penta in held_pentagramSet:\n",
    "    if penta not in pentagram_table:\n",
    "        c=pentagram_table[penta]\n",
    "        W=penta[4]\n",
    "        Wh=penta[0:4]\n",
    "        Pcont=history_dict[W]\n",
    "        if c<=3:\n",
    "            try:\n",
    "                L=(D[c]/quadgram_table[Wh])*future_dict[Wh]\n",
    "                Pkn=((max(c-D[c],0)/quadgram_table[Wh])+(L*Pcont))\n",
    "            except:\n",
    "                pass\n",
    "        else:\n",
    "            try:\n",
    "                L=(D[3]/quadgram_table[Wh])*future_dict[Wh]\n",
    "                Pkn=((max(c-D[3],0)/quadgram_table[Wh])+(L*Pcont)) \n",
    "            except:\n",
    "                pass\n",
    "        if Pkn>0.0:\n",
    "            penta_prob_table[penta[0:4]][penta[4]]=Pkn\n",
    "            #print(Pkn)\n",
    "        \n",
    "for quad in penta_prob_table:\n",
    "    penta_prob_table[quad]=dict(sorted(penta_prob_table[quad].items(), key=operator.itemgetter(1), reverse=True))"
   ]
  },
  {
   "cell_type": "code",
   "execution_count": 18,
   "metadata": {
    "collapsed": false
   },
   "outputs": [
    {
     "name": "stdout",
     "output_type": "stream",
     "text": [
      "104336\n",
      "3937\n"
     ]
    }
   ],
   "source": [
    "find_score(penta_prob_table,test_pentagramSet)"
   ]
  },
  {
   "cell_type": "code",
   "execution_count": 20,
   "metadata": {
    "collapsed": false
   },
   "outputs": [
    {
     "name": "stdout",
     "output_type": "stream",
     "text": [
      "1.0\n"
     ]
    }
   ],
   "source": [
    "find_perplexity(penta_prob_table,test_pentagramSet,len(train_tokens))"
   ]
  },
  {
   "cell_type": "code",
   "execution_count": null,
   "metadata": {
    "collapsed": true
   },
   "outputs": [],
   "source": []
  }
 ],
 "metadata": {
  "kernelspec": {
   "display_name": "Python 3",
   "language": "python",
   "name": "python3"
  },
  "language_info": {
   "codemirror_mode": {
    "name": "ipython",
    "version": 3
   },
   "file_extension": ".py",
   "mimetype": "text/x-python",
   "name": "python",
   "nbconvert_exporter": "python",
   "pygments_lexer": "ipython3",
   "version": "3.6.0"
  }
 },
 "nbformat": 4,
 "nbformat_minor": 2
}
